{
 "cells": [
  {
   "cell_type": "code",
   "execution_count": null,
   "id": "ed3f6ad4-a642-4c69-90f0-58e4a20c4685",
   "metadata": {},
   "outputs": [],
   "source": [
    " Exercise 1: (Score : 1) Create a numpy array containing the numbers from 1 to 10, and then reshape it to a 2x5 matrix. \n",
    "Exercise 2: (Score : 1) Create a numpy array containing the numbers from 1 to 20, and then extract the elements between the 5th and 15th index. \n",
    "Exercise 3: (Score : 1) Create a Pandas series with the following data: {'apples': 3, 'bananas': 2, 'oranges': 1}. Then, add a new item to the series with the key 'pears' and the value 4. \n",
    "Exercise 4: (Score : 1) Create a dataframe with the following columns: name, age, and gender. The dataframe should have 10 rows of data. \n",
    "Exercise 5: (Score : 1) Add a new column to the data frame created in question 1, called occupation. The values for this column should be Programmer, Manager, and Analyst, corresponding to the rows in the dataframe. \n",
    "Exercise 6: (Score : 1) Select the rows of the dataframe where the age is greater than or equal to 30. \n",
    "Exercise 7: (Score : 1) Convert this dataframe to a csv file and read that csv file, finally display the contents. \n",
    "Exercise 8: (Score : 1) Create a line plot using matplotlib pyplot that displays the population of four different cities over time. Each city should have its own line, and the x-axis should represent years (e.g. 2010, 2011, 2012, etc.) while the y-axis should represent the population. The data for the four cities is provided below: City A: [500000, 550000, 600000, 650000, 700000, 750000, 800000] City B: [800000, 850000, 900000, 950000, 1000000, 1050000, 1100000] City C: [1000000, 1050000, 1100000, 1150000, 1200000, 1250000, 1300000] City D: [1200000, 1250000, 1300000, 1350000, 1400000, 1450000, 1500000] \n",
    "Exercise 9: (Score : 1) Create a scatter plot using seaborn that shows the relationship between the number of hours studied and the test scores obtained by a group of students. Use the following data: Hours Studied: [1, 2, 3, 4, 5, 6, 7, 8, 9, 10] Test Scores: [93, 57, 61, 54, 51, 53, 87, 81, 83, 85] \n",
    "Exercise 10: (Score : 1) Create a bar chart using matplotlib pyplot that shows the total sales for each month of the year. Use the following data: Month: [\"Jan\", \"Feb\", \"Mar\", \"Apr\", \"May\", \"Jun\", \"Jul\", \"Aug\", \"Sep\", \"Oct\", \"Nov\", \"Dec\"] Sales: [11860, 10480, 4997, 5523, 13965, 6011, 13158, 9533, 5158, 9058, 11346, 6675]"
   ]
  },
  {
   "cell_type": "code",
   "execution_count": 1,
   "id": "4dcd940d-2300-477a-bf0c-dc5299b1cd08",
   "metadata": {},
   "outputs": [
    {
     "name": "stdout",
     "output_type": "stream",
     "text": [
      "[ 1  2  3  4  5  6  7  8  9 10]\n",
      "[[ 1  2  3  4  5]\n",
      " [ 6  7  8  9 10]]\n"
     ]
    }
   ],
   "source": [
    "#Excercise1\n",
    "import numpy as np\n",
    "a1=np.arange(1,11)\n",
    "print(a1)\n",
    "r1=a1.reshape(2,5)\n",
    "print(r1)"
   ]
  },
  {
   "cell_type": "code",
   "execution_count": 15,
   "id": "df68f306-81db-44fa-b864-63e3b5608c49",
   "metadata": {},
   "outputs": [
    {
     "name": "stdout",
     "output_type": "stream",
     "text": [
      "[ 1  2  3  4  5  6  7  8  9 10 11 12 13 14 15 16 17 18 19]\n",
      "[ 6  7  8  9 10 11 12 13 14 15]\n"
     ]
    }
   ],
   "source": [
    "#Excercise2\n",
    "import numpy as np\n",
    "a2=np.arange(1,20)\n",
    "print(a2)\n",
    "print(a2[5:15])\n"
   ]
  },
  {
   "cell_type": "code",
   "execution_count": 33,
   "id": "779aae87-d82e-408d-964f-126036458067",
   "metadata": {},
   "outputs": [
    {
     "name": "stdout",
     "output_type": "stream",
     "text": [
      "apples     3\n",
      "bananas    2\n",
      "oranges    1\n",
      "dtype: int64\n",
      "..................................................................\n",
      "apples     3\n",
      "bananas    2\n",
      "oranges    1\n",
      "pears      4\n",
      "dtype: int64\n"
     ]
    }
   ],
   "source": [
    "#excercise3Create a Pandas series with the following data: {'apples': 3, 'bananas': 2, 'oranges': 1}. Then, add a new item to the series with the key 'pears' and the value 4. \n",
    "#Create a Pandas series with the following data: \n",
    "# Then, add a new item to the series with the key 'pears' and the value 4. \n",
    "import pandas as pd\n",
    "p1=pd.Series({'apples': 3, 'bananas': 2, 'oranges': 1})\n",
    "print(p1)\n",
    "print('..................................................................')\n",
    "p1['pears']=4\n",
    "print(p1)"
   ]
  },
  {
   "cell_type": "code",
   "execution_count": 55,
   "id": "edd2f8a4-91fa-4c00-9728-e5bf378ea89b",
   "metadata": {},
   "outputs": [
    {
     "data": {
      "text/html": [
       "<div>\n",
       "<style scoped>\n",
       "    .dataframe tbody tr th:only-of-type {\n",
       "        vertical-align: middle;\n",
       "    }\n",
       "\n",
       "    .dataframe tbody tr th {\n",
       "        vertical-align: top;\n",
       "    }\n",
       "\n",
       "    .dataframe thead th {\n",
       "        text-align: right;\n",
       "    }\n",
       "</style>\n",
       "<table border=\"1\" class=\"dataframe\">\n",
       "  <thead>\n",
       "    <tr style=\"text-align: right;\">\n",
       "      <th></th>\n",
       "      <th>name</th>\n",
       "      <th>Age</th>\n",
       "      <th>Gender</th>\n",
       "    </tr>\n",
       "  </thead>\n",
       "  <tbody>\n",
       "    <tr>\n",
       "      <th>0</th>\n",
       "      <td>Ravi</td>\n",
       "      <td>12</td>\n",
       "      <td>M</td>\n",
       "    </tr>\n",
       "    <tr>\n",
       "      <th>1</th>\n",
       "      <td>Hari</td>\n",
       "      <td>32</td>\n",
       "      <td>M</td>\n",
       "    </tr>\n",
       "    <tr>\n",
       "      <th>2</th>\n",
       "      <td>Abhi</td>\n",
       "      <td>34</td>\n",
       "      <td>F</td>\n",
       "    </tr>\n",
       "    <tr>\n",
       "      <th>3</th>\n",
       "      <td>Kili</td>\n",
       "      <td>32</td>\n",
       "      <td>M</td>\n",
       "    </tr>\n",
       "    <tr>\n",
       "      <th>4</th>\n",
       "      <td>Kakka</td>\n",
       "      <td>23</td>\n",
       "      <td>F</td>\n",
       "    </tr>\n",
       "    <tr>\n",
       "      <th>5</th>\n",
       "      <td>Maram</td>\n",
       "      <td>24</td>\n",
       "      <td>M</td>\n",
       "    </tr>\n",
       "    <tr>\n",
       "      <th>6</th>\n",
       "      <td>RAman</td>\n",
       "      <td>25</td>\n",
       "      <td>F</td>\n",
       "    </tr>\n",
       "    <tr>\n",
       "      <th>7</th>\n",
       "      <td>Sachi</td>\n",
       "      <td>43</td>\n",
       "      <td>M</td>\n",
       "    </tr>\n",
       "    <tr>\n",
       "      <th>8</th>\n",
       "      <td>Lakshman</td>\n",
       "      <td>31</td>\n",
       "      <td>F</td>\n",
       "    </tr>\n",
       "    <tr>\n",
       "      <th>9</th>\n",
       "      <td>Rahul</td>\n",
       "      <td>28</td>\n",
       "      <td>M</td>\n",
       "    </tr>\n",
       "  </tbody>\n",
       "</table>\n",
       "</div>"
      ],
      "text/plain": [
       "       name  Age Gender\n",
       "0      Ravi   12      M\n",
       "1      Hari   32      M\n",
       "2      Abhi   34      F\n",
       "3      Kili   32      M\n",
       "4     Kakka   23      F\n",
       "5     Maram   24      M\n",
       "6     RAman   25      F\n",
       "7     Sachi   43      M\n",
       "8  Lakshman   31      F\n",
       "9     Rahul   28      M"
      ]
     },
     "execution_count": 55,
     "metadata": {},
     "output_type": "execute_result"
    }
   ],
   "source": [
    "#Exercise 4: (Score : 1) \n",
    "#Create a dataframe with the following columns: name, age, and gender. The dataframe should have 10 rows of data. \n",
    "df=pd.DataFrame({'name':['Ravi','Hari','Abhi','Kili','Kakka','Maram','RAman','Sachi','Lakshman','Rahul'],'Age':[12,32,34,32,23,24,25,43,31,28],'Gender':['M','M','F','M','F','M','F','M','F','M']})\n",
    "df"
   ]
  },
  {
   "cell_type": "code",
   "execution_count": 57,
   "id": "de24d6ec-1ffb-4c91-ad31-3358c903846a",
   "metadata": {},
   "outputs": [
    {
     "data": {
      "text/html": [
       "<div>\n",
       "<style scoped>\n",
       "    .dataframe tbody tr th:only-of-type {\n",
       "        vertical-align: middle;\n",
       "    }\n",
       "\n",
       "    .dataframe tbody tr th {\n",
       "        vertical-align: top;\n",
       "    }\n",
       "\n",
       "    .dataframe thead th {\n",
       "        text-align: right;\n",
       "    }\n",
       "</style>\n",
       "<table border=\"1\" class=\"dataframe\">\n",
       "  <thead>\n",
       "    <tr style=\"text-align: right;\">\n",
       "      <th></th>\n",
       "      <th>name</th>\n",
       "      <th>Age</th>\n",
       "      <th>Gender</th>\n",
       "      <th>ocupation</th>\n",
       "    </tr>\n",
       "  </thead>\n",
       "  <tbody>\n",
       "    <tr>\n",
       "      <th>0</th>\n",
       "      <td>Ravi</td>\n",
       "      <td>12</td>\n",
       "      <td>M</td>\n",
       "      <td>programmer</td>\n",
       "    </tr>\n",
       "    <tr>\n",
       "      <th>1</th>\n",
       "      <td>Hari</td>\n",
       "      <td>32</td>\n",
       "      <td>M</td>\n",
       "      <td>Manager</td>\n",
       "    </tr>\n",
       "    <tr>\n",
       "      <th>2</th>\n",
       "      <td>Abhi</td>\n",
       "      <td>34</td>\n",
       "      <td>F</td>\n",
       "      <td>Analyst</td>\n",
       "    </tr>\n",
       "    <tr>\n",
       "      <th>3</th>\n",
       "      <td>Kili</td>\n",
       "      <td>32</td>\n",
       "      <td>M</td>\n",
       "      <td>Programer</td>\n",
       "    </tr>\n",
       "    <tr>\n",
       "      <th>4</th>\n",
       "      <td>Kakka</td>\n",
       "      <td>23</td>\n",
       "      <td>F</td>\n",
       "      <td>Analyst</td>\n",
       "    </tr>\n",
       "    <tr>\n",
       "      <th>5</th>\n",
       "      <td>Maram</td>\n",
       "      <td>24</td>\n",
       "      <td>M</td>\n",
       "      <td>Manager</td>\n",
       "    </tr>\n",
       "    <tr>\n",
       "      <th>6</th>\n",
       "      <td>RAman</td>\n",
       "      <td>25</td>\n",
       "      <td>F</td>\n",
       "      <td>Programer</td>\n",
       "    </tr>\n",
       "    <tr>\n",
       "      <th>7</th>\n",
       "      <td>Sachi</td>\n",
       "      <td>43</td>\n",
       "      <td>M</td>\n",
       "      <td>Manager</td>\n",
       "    </tr>\n",
       "    <tr>\n",
       "      <th>8</th>\n",
       "      <td>Lakshman</td>\n",
       "      <td>31</td>\n",
       "      <td>F</td>\n",
       "      <td>Programer</td>\n",
       "    </tr>\n",
       "    <tr>\n",
       "      <th>9</th>\n",
       "      <td>Rahul</td>\n",
       "      <td>28</td>\n",
       "      <td>M</td>\n",
       "      <td>Manager</td>\n",
       "    </tr>\n",
       "  </tbody>\n",
       "</table>\n",
       "</div>"
      ],
      "text/plain": [
       "       name  Age Gender   ocupation\n",
       "0      Ravi   12      M  programmer\n",
       "1      Hari   32      M     Manager\n",
       "2      Abhi   34      F     Analyst\n",
       "3      Kili   32      M   Programer\n",
       "4     Kakka   23      F     Analyst\n",
       "5     Maram   24      M     Manager\n",
       "6     RAman   25      F   Programer\n",
       "7     Sachi   43      M     Manager\n",
       "8  Lakshman   31      F   Programer\n",
       "9     Rahul   28      M     Manager"
      ]
     },
     "execution_count": 57,
     "metadata": {},
     "output_type": "execute_result"
    }
   ],
   "source": [
    "#Exercise 5: (Score : 1) Add a new column to the data frame created in question 1, called occupation. The values for this column should be Programmer, Manager, and Analyst, corresponding to the rows in the dataframe\n",
    "df['ocupation']=['programmer','Manager','Analyst','Programer','Analyst','Manager','Programer','Manager','Programer','Manager']\n",
    "df"
   ]
  },
  {
   "cell_type": "code",
   "execution_count": 81,
   "id": "08cad552-8cb3-4e4c-868f-be0cf10fed46",
   "metadata": {},
   "outputs": [
    {
     "name": "stdout",
     "output_type": "stream",
     "text": [
      "       name  Age Gender  ocupation\n",
      "1      Hari   32      M    Manager\n",
      "2      Abhi   34      F    Analyst\n",
      "3      Kili   32      M  Programer\n",
      "7     Sachi   43      M    Manager\n",
      "8  Lakshman   31      F  Programer\n",
      ".........................\n",
      ".........................\n"
     ]
    }
   ],
   "source": [
    "#Exercise 6: (Score : 1) Select the rows of the dataframe where the age is greater than or equal to 30.\n",
    "x=df[df['Age']>=30]\n",
    "print(x)\n",
    "print('.........................')\n",
    "#print(df.isnull().sum())\n",
    "print('.........................')\n",
    "#df.isnull()\n"
   ]
  },
  {
   "cell_type": "code",
   "execution_count": 83,
   "id": "e77c050b-bd53-4944-89b5-8aa9fe854318",
   "metadata": {},
   "outputs": [
    {
     "name": "stdout",
     "output_type": "stream",
     "text": [
      ".........................\n",
      ".........................\n",
      "       name  Age Gender   ocupation\n",
      "0      Ravi   12      M  programmer\n",
      "1      Hari   32      M     Manager\n",
      "2      Abhi   34      F     Analyst\n",
      "3      Kili   32      M   Programer\n",
      "4     Kakka   23      F     Analyst\n",
      "5     Maram   24      M     Manager\n",
      "6     RAman   25      F   Programer\n",
      "7     Sachi   43      M     Manager\n",
      "8  Lakshman   31      F   Programer\n",
      "9     Rahul   28      M     Manager\n"
     ]
    }
   ],
   "source": [
    "#Exercise 7: (Score : 1) Convert this dataframe to a csv file and read that csv file, finally display the contents.\n",
    "df.to_csv('sample_data.csv', index=False)\n",
    "print('.........................')\n",
    "df_from_csv = pd.read_csv('sample_data.csv') # Read the CSV file back into a new DataFrame\n",
    "print('.........................')\n",
    "print(df_from_csv)"
   ]
  },
  {
   "cell_type": "code",
   "execution_count": 95,
   "id": "652840b6-ec41-4ede-bc91-cc554a32796a",
   "metadata": {},
   "outputs": [
    {
     "name": "stdout",
     "output_type": "stream",
     "text": [
      ".......................................\n"
     ]
    }
   ],
   "source": [
    "#Exercise 8: (Score : 1) Create a line plot using matplotlib pyplot that displays the population of four different cities over time. \n",
    "#Each city should have its own line, and the x-axis should represent years (e.g. 2010, 2011, 2012, etc.) \n",
    "#while the y-axis should represent the population. The data for the four cities is provided below: \n",
    "#City A: [500000, 550000, 600000, 650000, 700000, 750000, 800000] \n",
    "#City B: [800000, 850000, 900000, 950000, 1000000, 1050000, 1100000] \n",
    "#City C: [1000000, 1050000, 1100000, 1150000, 1200000, 1250000, 1300000] \n",
    "#City D: [1200000, 1250000, 1300000, 1350000, 1400000, 1450000, 1500000]\n",
    "print('.......................................')"
   ]
  },
  {
   "cell_type": "code",
   "execution_count": 104,
   "id": "9e0dd4a6-0fca-4b0f-8eb6-1dd1057e647b",
   "metadata": {},
   "outputs": [],
   "source": [
    "#Exercise 9: (Score : 1) Create a scatter plot using seaborn that shows the relationship between \n",
    "#the number of hours studied and the test scores obtained by a group of students.\n",
    "#Use the following data: \n",
    "#Hours Studied: [1, 2, 3, 4, 5, 6, 7, 8, 9, 10] \n",
    "#Test Scores: [93, 57, 61, 54, 51, 53, 87, 81, 83, 85] "
   ]
  },
  {
   "cell_type": "code",
   "execution_count": null,
   "id": "4f36fdc2-3c54-4530-a8e2-e12bb1820515",
   "metadata": {},
   "outputs": [],
   "source": [
    "#Exercise 10: (Score : 1) Create a bar chart using matplotlib pyplot that shows the total sales for each month of the year. \n",
    "#Use the following data: \n",
    "#Month: [\"Jan\", \"Feb\", \"Mar\", \"Apr\", \"May\", \"Jun\", \"Jul\", \"Aug\", \"Sep\", \"Oct\", \"Nov\", \"Dec\"] \n",
    "#Sales: [11860, 10480, 4997, 5523, 13965, 6011, 13158, 9533, 5158, 9058, 11346, 6675]"
   ]
  },
  {
   "cell_type": "code",
   "execution_count": null,
   "id": "7d7929ab-fcea-4db2-a459-31c1a6814218",
   "metadata": {},
   "outputs": [],
   "source": []
  }
 ],
 "metadata": {
  "kernelspec": {
   "display_name": "Python 3 (ipykernel)",
   "language": "python",
   "name": "python3"
  },
  "language_info": {
   "codemirror_mode": {
    "name": "ipython",
    "version": 3
   },
   "file_extension": ".py",
   "mimetype": "text/x-python",
   "name": "python",
   "nbconvert_exporter": "python",
   "pygments_lexer": "ipython3",
   "version": "3.12.4"
  }
 },
 "nbformat": 4,
 "nbformat_minor": 5
}
